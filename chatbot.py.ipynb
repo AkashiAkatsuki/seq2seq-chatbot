{
 "cells": [
  {
   "cell_type": "code",
   "execution_count": 2,
   "metadata": {},
   "outputs": [],
   "source": [
    "import MeCab\n",
    "import numpy as np"
   ]
  },
  {
   "cell_type": "code",
   "execution_count": 50,
   "metadata": {
    "scrolled": true
   },
   "outputs": [],
   "source": [
    "class Voc:\n",
    "    def __init__(self):\n",
    "        self.word2index = {\"EOS\": 0}\n",
    "        self.word2count = {\"EOS\": 0}\n",
    "        self.num_words = 1\n",
    "        self.mecab = MeCab.Tagger()\n",
    "        self.trimmed = False\n",
    "        \n",
    "    def raw2sentence(self, sentence):\n",
    "        m = self.mecab.parse(sentence)\n",
    "        m = m[:-1]\n",
    "        return [word_info.split(\"\\t\")[0] for word_info in m.split(\"\\n\")]\n",
    "    \n",
    "    def addSentence(self, sentence):\n",
    "        for w in sentence:\n",
    "            self.addWord(w)\n",
    "    \n",
    "    def addWord(self, word):\n",
    "        if word not in self.word2index:\n",
    "            self.word2index[word] = self.num_words\n",
    "            self.word2count[word] = 1\n",
    "            self.num_words += 1\n",
    "        else:\n",
    "            self.word2count[word] += 1\n",
    "            \n",
    "    def trim(self, min_count):\n",
    "        if self.trimmed: return\n",
    "        Trimmed = True\n",
    "        keep_words = []\n",
    "        for word, count in self.word2count.items():\n",
    "            if count >= min_count:\n",
    "                keep_words.append(word)\n",
    "        self.word2index = {}\n",
    "        self.num_words = 1\n",
    "        for word in keep_words:\n",
    "            self.addWord(word)"
   ]
  },
  {
   "cell_type": "code",
   "execution_count": 46,
   "metadata": {},
   "outputs": [],
   "source": [
    "def indexesFromSentence(voc, sentence):\n",
    "    m = voc.mecab.parse(sentence)\n",
    "    m = m[:-1]\n",
    "    words = [word_info.split(\"\\t\")[0] for word_info in m.split(\"\\n\")]\n",
    "    [voc.word2index[w] for w in words]"
   ]
  },
  {
   "cell_type": "code",
   "execution_count": null,
   "metadata": {},
   "outputs": [],
   "source": []
  },
  {
   "cell_type": "code",
   "execution_count": 69,
   "metadata": {
    "scrolled": true
   },
   "outputs": [
    {
     "name": "stdout",
     "output_type": "stream",
     "text": [
      "[['＊', 'おん', 'ち', 'き', '＊', '。', 'EOS'], ['＊', 'おん', 'ち', 'き', '＊', '。', 'EOS'], ['あっ', '。', 'EOS'], ['ああ', '、', 'ねえ', '、', '山梨', '弁', 'メール', 'が', '来', 'た', '。', 'EOS'], ['なんて', '？', 'EOS'], ['何', '、', 'それ', '？', 'EOS'], ['クレヨン', '。', 'EOS'], ['くり', 'ょうしって', '書い', 'て', 'ある', '。', 'EOS'], ['くり', 'ょうしって', '？', 'EOS']]\n"
     ]
    }
   ],
   "source": [
    "MIN_COUNT = 3\n",
    "\n",
    "voc = Voc()\n",
    "file = open(\"sequence.txt\")\n",
    "file_it = iter(file)\n",
    "\n",
    "sentences = []\n",
    "mecab = MeCab.Tagger()\n",
    "for speak, response in zip(file_it, file_it):\n",
    "    speak = speak.replace(\"input: \", \"\")\n",
    "    response = response.replace(\"output: \", \"\")\n",
    "    sentences.append(voc.raw2sentence(speak))\n",
    "    sentences.append(voc.raw2sentence(response))\n",
    "\n",
    "for sentence in sentences:\n",
    "    voc.addSentence(sentence)\n",
    "\n",
    "voc.trim(MIN_COUNT)\n",
    "\n",
    "keep_sentences = []\n",
    "sentences_it = iter(sentences)\n",
    "for speak, response in zip(sentences_it, sentences_it):\n",
    "    if not set(speak).issubset(set(voc.word2index.keys())): continue\n",
    "    if not set(response).issubset(set(voc.word2index.keys())): continue\n",
    "    keep_sentences.append(speak)\n",
    "    keep_sentences.append(response)\n",
    "\n",
    "print(keep_sentences[1:10])"
   ]
  },
  {
   "cell_type": "code",
   "execution_count": 68,
   "metadata": {},
   "outputs": [
    {
     "name": "stdout",
     "output_type": "stream",
     "text": [
      "48986\n"
     ]
    }
   ],
   "source": []
  }
 ],
 "metadata": {
  "kernelspec": {
   "display_name": "Python 3",
   "language": "python",
   "name": "python3"
  },
  "language_info": {
   "codemirror_mode": {
    "name": "ipython",
    "version": 3
   },
   "file_extension": ".py",
   "mimetype": "text/x-python",
   "name": "python",
   "nbconvert_exporter": "python",
   "pygments_lexer": "ipython3",
   "version": "3.6.5"
  }
 },
 "nbformat": 4,
 "nbformat_minor": 2
}
